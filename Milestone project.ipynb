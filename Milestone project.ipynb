{
 "cells": [
  {
   "cell_type": "code",
   "execution_count": 1,
   "metadata": {},
   "outputs": [],
   "source": [
    "def display_board(board): \n",
    "    print(board[7] + '|' + board[8] + '|' + board[9])\n",
    "    print(board[4] + '|' + board[5] + '|' + board[6])\n",
    "    print(board[1] + '|' + board[2] + '|' + board[3])\n",
    "    print(\"------------------------------------------\")"
   ]
  },
  {
   "cell_type": "code",
   "execution_count": 2,
   "metadata": {},
   "outputs": [],
   "source": [
    "def user_input():\n",
    "    us_in = 'False'\n",
    "    while us_in.isdigit()==False:\n",
    "        us_in = input('Please enter number between (1-9): ')\n",
    "                \n",
    "        if us_in.isdigit() == False: \n",
    "            print(\"Please enter a digit!\")\n",
    "        else:\n",
    "            if us_in not in range(1,9):\n",
    "                print(\"Please enter a number in range of 1-9!\")\n",
    "                us_in = str(user_input())\n",
    "    return int(us_in)"
   ]
  },
  {
   "cell_type": "code",
   "execution_count": 6,
   "metadata": {},
   "outputs": [],
   "source": [
    "def place_input(board,position,ele):\n",
    "    board[position] = ele\n",
    "    return board"
   ]
  },
  {
   "cell_type": "code",
   "execution_count": 7,
   "metadata": {},
   "outputs": [],
   "source": [
    "def iswin(board):\n",
    "    if board[7]==board[5]==board[3]=='X' or board[1]==board[5]==board[9]=='X' or board[8]==board[5]==board[2]=='X' or board[7]==board[4]==board[1]=='X' or board[4]==board[5]==board[6]=='X' or board[9]==board[6]==board[3]=='X' or board[7]==board[8]==board[9]=='X' or board[1]==board[2]==board[3]=='X':\n",
    "        return True\n",
    "    elif board[7]==board[5]==board[3]=='O' or board[1]==board[5]==board[9]=='O' or board[8]==board[5]==board[2]=='O' or board[7]==board[4]==board[1]=='O' or board[4]==board[5]==board[6]=='O' or board[9]==board[6]==board[3]=='O' or board[7]==board[8]==board[9]=='O' or board[1]==board[2]==board[3]=='O':\n",
    "        return True\n",
    "    else:\n",
    "        return False\n"
   ]
  },
  {
   "cell_type": "code",
   "execution_count": 10,
   "metadata": {},
   "outputs": [],
   "source": [
    "def play_game():\n",
    "    print(\"Welcome to Tic-Tac-Toe!\")\n",
    "    play_game = 'Y'\n",
    "    while play_game== 'Y':\n",
    "        from IPython.display import clear_output\n",
    "        board = [' ',' ' ,' ',' ',' ' ,' ' ,' ' ,' ' , ' ',' ']\n",
    "        display_board (board)\n",
    "        player1 = \"\"\n",
    "        player2 = \"\"\n",
    "        player1 = input(\"Please select one of these(X,O): \")\n",
    "        player1 = player1.upper()\n",
    "        while player1 != 'X' and player1 != 'O':\n",
    "            player1 = input(\"Please select one of these(X,O): \")\n",
    "            player1 = player1.upper()\n",
    "            if player1 != 'X' and player1 != 'O':\n",
    "                print (\"Please one choose of these(X,O)!\")\n",
    "        if player1 == 'X':\n",
    "            player2 = 'O'\n",
    "        else:\n",
    "            player2 = 'X'\n",
    "        play_win = False\n",
    "        count = 0\n",
    "        while count != 4:\n",
    "            position = user_input()\n",
    "            board = place_input(board,position,'X')\n",
    "            clear_output()\n",
    "            display_board(board)\n",
    "            if iswin(board):\n",
    "                print('Player1 wins the game!')\n",
    "                break\n",
    "            position = user_input()\n",
    "            board = place_input(board,position,'O')\n",
    "            clear_output()\n",
    "            display_board(board)\n",
    "            play_win = iswin(board)\n",
    "            if iswin(board):\n",
    "                print('Player2 wins the game!')\n",
    "                break\n",
    "            count += 1\n",
    "        play_game = input(\"Would you like to play again?(Y/N)\")\n",
    "        play_game = play_game.upper()\n",
    "        while play_game!='Y' and play_game!='N':\n",
    "            print(\"I don't understand!\")\n",
    "            play_game = input(\"Would you like to play again?(Y/N)\").upper()\n",
    "        if play_game == 'N':\n",
    "            print(\"Thank You playing game!\")\n",
    "    "
   ]
  },
  {
   "cell_type": "code",
   "execution_count": null,
   "metadata": {},
   "outputs": [
    {
     "name": "stdout",
     "output_type": "stream",
     "text": [
      " | | \n",
      "X| | \n",
      "O|X|O\n",
      "------------------------------------------\n"
     ]
    }
   ],
   "source": [
    "play_game()"
   ]
  },
  {
   "cell_type": "code",
   "execution_count": null,
   "metadata": {},
   "outputs": [],
   "source": []
  }
 ],
 "metadata": {
  "kernelspec": {
   "display_name": "Python 3",
   "language": "python",
   "name": "python3"
  },
  "language_info": {
   "codemirror_mode": {
    "name": "ipython",
    "version": 3
   },
   "file_extension": ".py",
   "mimetype": "text/x-python",
   "name": "python",
   "nbconvert_exporter": "python",
   "pygments_lexer": "ipython3",
   "version": "3.8.5"
  }
 },
 "nbformat": 4,
 "nbformat_minor": 4
}
