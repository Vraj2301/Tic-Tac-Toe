{
 "cells": [
  {
   "cell_type": "code",
   "execution_count": 1,
   "metadata": {},
   "outputs": [],
   "source": [
    "from IPython.display import clear_output"
   ]
  },
  {
   "cell_type": "code",
   "execution_count": 2,
   "metadata": {},
   "outputs": [],
   "source": [
    "def display_board(board):\n",
    "    clear_output()\n",
    "    \n",
    "    print(board[1]+'|'+board[2]+'|'+board[3])\n",
    "   \n",
    "    print(board[4]+'|'+board[5]+'|'+board[6])\n",
    "\n",
    "    print(board[7]+'|'+board[8]+'|'+board[9])"
   ]
  },
  {
   "cell_type": "code",
   "execution_count": 3,
   "metadata": {},
   "outputs": [],
   "source": [
    "def player_input():\n",
    "    \n",
    "    choice=''\n",
    "    while choice !='X' and choice !='O':\n",
    "        choice=input(\"Player 1 , Choose X or O: \").upper()\n",
    "        if choice !='X' and choice !='O':\n",
    "            print('Sorry wrong input ! ')\n",
    "        \n",
    "            \n",
    "            \n",
    "    player1=choice\n",
    "    \n",
    "    if player1=='X':\n",
    "        player2='O'\n",
    "    else:\n",
    "        player2='X'\n",
    "        \n",
    "    return(player1,player2)"
   ]
  },
  {
   "cell_type": "code",
   "execution_count": 4,
   "metadata": {},
   "outputs": [],
   "source": [
    "def place_marker(board,choice,position):\n",
    "    \n",
    "    board[position]= choice"
   ]
  },
  {
   "cell_type": "code",
   "execution_count": 5,
   "metadata": {},
   "outputs": [],
   "source": [
    "def win_check(board,mark):\n",
    "    \n",
    "    return ((board[7] == mark and board[8] == mark and board[9] == mark) or # across the top\n",
    "    (board[4] == mark and board[5] == mark and board[6] == mark) or # across the middle\n",
    "    (board[1] == mark and board[2] == mark and board[3] == mark) or # across the bottom\n",
    "    (board[7] == mark and board[4] == mark and board[1] == mark) or # down the middle\n",
    "    (board[8] == mark and board[5] == mark and board[2] == mark) or # down the middle\n",
    "    (board[9] == mark and board[6] == mark and board[3] == mark) or # down the right side\n",
    "    (board[7] == mark and board[5] == mark and board[3] == mark) or # diagonal\n",
    "    (board[9] == mark and board[5] == mark and board[1] == mark)) # diagonal"
   ]
  },
  {
   "cell_type": "code",
   "execution_count": 7,
   "metadata": {},
   "outputs": [],
   "source": [
    "import random\n",
    "\n",
    "def choose_first():\n",
    "    if random.randint(0, 1) == 0:\n",
    "        return 'Player 2'\n",
    "    else:\n",
    "        return 'Player 1'"
   ]
  },
  {
   "cell_type": "code",
   "execution_count": 8,
   "metadata": {},
   "outputs": [],
   "source": [
    "def space_check(board,position):\n",
    "    return board[position]==' '"
   ]
  },
  {
   "cell_type": "code",
   "execution_count": 9,
   "metadata": {},
   "outputs": [],
   "source": [
    "\n",
    "def full_board_check(board):\n",
    "    for i in range(1,10):\n",
    "        if space_check(board,i):\n",
    "            return False\n",
    "    return True\n",
    "    #board full if true is returned"
   ]
  },
  {
   "cell_type": "code",
   "execution_count": 10,
   "metadata": {},
   "outputs": [],
   "source": [
    "def player_choice(board):\n",
    "    \n",
    "    pos=0\n",
    "    \n",
    "    while pos not in range(1,10) or not space_check(board,pos):\n",
    "        pos=int(input(\"Choose a position (1-9)\"))\n",
    "    return pos"
   ]
  },
  {
   "cell_type": "code",
   "execution_count": 11,
   "metadata": {},
   "outputs": [],
   "source": [
    "def replay():\n",
    "    return input(\"play again ? Enter Yes or No: \").lower().startswith('y')"
   ]
  },
  {
   "cell_type": "code",
   "execution_count": 14,
   "metadata": {},
   "outputs": [
    {
     "name": "stdout",
     "output_type": "stream",
     "text": [
      "Welcome to tic tac toe \n",
      "Player 1 , Choose X or O: O\n",
      "Player 2 will go first \n",
      "Ready to play?y or n: N\n",
      "play again ? Enter Yes or No: n\n"
     ]
    }
   ],
   "source": [
    "# while loop to keep thre game running\n",
    "\n",
    "print(\"Welcome to tic tac toe \")\n",
    "choice=' '\n",
    "\n",
    "while True:\n",
    "    #play game\n",
    "    \n",
    "    ##set everything up(board, whos 1st, markers)\n",
    "    \n",
    "    the_board=[' ']*10\n",
    "    p1_choice,p2_choice=player_input()\n",
    "    turn=choose_first()\n",
    "    print(turn+\" will go first \")\n",
    "    \n",
    "    play_game=input('Ready to play?y or n: ')\n",
    "    if play_game=='y':\n",
    "        game_on=True\n",
    "    else:\n",
    "        game_on=False\n",
    "    \n",
    "    \n",
    "    ##game play\n",
    "    while game_on:\n",
    "        if turn=='Player 1':\n",
    "            \n",
    "            #show the board\n",
    "            display_board(the_board)\n",
    "            #place the marker to the position\n",
    "            pos=player_choice(the_board)\n",
    "            place_marker(the_board,p1_choice,pos)\n",
    "            \n",
    "            #check if W/L/T\n",
    "            if win_check(the_board,p1_choice):\n",
    "                display_board(the_board)\n",
    "                print('Player 1 has Won')\n",
    "                game_on=False\n",
    "            else:\n",
    "                \n",
    "                if full_board_check(the_board):\n",
    "                    display_board(the_board)\n",
    "                    print('Its a Tie!')\n",
    "                    game_on=False\n",
    "                else:\n",
    "                    turn=\"Player 2\"\n",
    "        else:\n",
    "                  #show the board\n",
    "            display_board(the_board)\n",
    "            #place the marker to the position\n",
    "            pos=player_choice(the_board)\n",
    "            place_marker(the_board,p2_choice,pos)\n",
    "            \n",
    "            #check if W/L/T\n",
    "            if win_check(the_board,p2_choice):\n",
    "                display_board(the_board)\n",
    "                print('Player 2 has Won')\n",
    "                game_on=False\n",
    "            else:\n",
    "                \n",
    "                if full_board_check(the_board):\n",
    "                    display_board(the_board)\n",
    "                    print('Its a Tie!')\n",
    "                    game_on=False\n",
    "                else:\n",
    "                    turn=\"Player 1\"\n",
    "            \n",
    "            \n",
    "            \n",
    "  \n",
    "    \n",
    "    \n",
    "    \n",
    "    \n",
    "    if not replay():\n",
    "        break"
   ]
  },
  {
   "cell_type": "code",
   "execution_count": null,
   "metadata": {},
   "outputs": [],
   "source": []
  }
 ],
 "metadata": {
  "kernelspec": {
   "display_name": "Python 3",
   "language": "python",
   "name": "python3"
  },
  "language_info": {
   "codemirror_mode": {
    "name": "ipython",
    "version": 3
   },
   "file_extension": ".py",
   "mimetype": "text/x-python",
   "name": "python",
   "nbconvert_exporter": "python",
   "pygments_lexer": "ipython3",
   "version": "3.8.5"
  }
 },
 "nbformat": 4,
 "nbformat_minor": 4
}
